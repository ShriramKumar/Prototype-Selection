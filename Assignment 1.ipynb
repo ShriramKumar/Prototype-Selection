{
 "cells": [
  {
   "cell_type": "code",
   "execution_count": 1,
   "metadata": {
    "collapsed": true
   },
   "outputs": [],
   "source": [
    "#Comparing multiclass classifiers"
   ]
  },
  {
   "cell_type": "code",
   "execution_count": 2,
   "metadata": {
    "collapsed": true
   },
   "outputs": [],
   "source": [
    "#Evaluating classifier performance"
   ]
  },
  {
   "cell_type": "code",
   "execution_count": 3,
   "metadata": {
    "collapsed": false
   },
   "outputs": [
    {
     "name": "stderr",
     "output_type": "stream",
     "text": [
      "/usr/local/lib/python2.7/site-packages/matplotlib/font_manager.py:273: UserWarning: Matplotlib is building the font cache using fc-list. This may take a moment.\n",
      "  warnings.warn('Matplotlib is building the font cache using fc-list. This may take a moment.')\n"
     ]
    }
   ],
   "source": [
    "# Load the dataset\n",
    "\n",
    "%matplotlib inline\n",
    "import matplotlib.pyplot as pyPlot\n",
    "import cPickle, gzip, numpy\n",
    "import numpy as np\n",
    "\n",
    "f = gzip.open('mnist.pkl.gz', 'rb')\n",
    "train_set, valid_set, test_set = cPickle.load(f)\n",
    "f.close()\n",
    "\n",
    "train_x = 1*(train_set[0]>0.5)\n",
    "test_x = 1*(test_set[0]>0.5)\n",
    "valid_x = 1*(valid_set[0]>0.5)"
   ]
  },
  {
   "cell_type": "code",
   "execution_count": 4,
   "metadata": {
    "collapsed": false
   },
   "outputs": [
    {
     "name": "stdout",
     "output_type": "stream",
     "text": [
      "CPU times: user 20 s, sys: 103 ms, total: 20.1 s\n",
      "Wall time: 20.1 s\n"
     ]
    },
    {
     "data": {
      "text/plain": [
       "NearestNeighbors(algorithm='auto', leaf_size=90, metric='hamming',\n",
       "         metric_params=None, n_jobs=7, n_neighbors=1, p=2, radius=1.0)"
      ]
     },
     "execution_count": 4,
     "metadata": {},
     "output_type": "execute_result"
    }
   ],
   "source": [
    "#Training a nearest neighbour classifier\n",
    "from sklearn.neighbors import NearestNeighbors\n",
    "\n",
    "#model = NearestNeighbors(n_neighbors = 1,n_jobs = 7,leaf_size = 90,metric = 'hamming')\n",
    "#%time model.fit(train_x)"
   ]
  },
  {
   "cell_type": "code",
   "execution_count": 5,
   "metadata": {
    "collapsed": false
   },
   "outputs": [
    {
     "name": "stdout",
     "output_type": "stream",
     "text": [
      "CPU times: user 8min 54s, sys: 1.82 s, total: 8min 56s\n",
      "Wall time: 1min 21s\n",
      "             precision    recall  f1-score   support\n",
      "\n",
      "          0       0.96      0.99      0.98       980\n",
      "          1       0.94      0.99      0.97      1135\n",
      "          2       0.98      0.95      0.96      1032\n",
      "          3       0.93      0.95      0.94      1010\n",
      "          4       0.97      0.94      0.95       982\n",
      "          5       0.93      0.94      0.93       892\n",
      "          6       0.98      0.98      0.98       958\n",
      "          7       0.94      0.96      0.95      1028\n",
      "          8       0.98      0.88      0.93       974\n",
      "          9       0.93      0.93      0.93      1009\n",
      "\n",
      "avg / total       0.95      0.95      0.95     10000\n",
      "\n",
      "[[ 972    1    1    0    0    2    3    1    0    0]\n",
      " [   0 1129    3    1    0    1    1    0    0    0]\n",
      " [  12   13  978    4    2    0    2   17    3    1]\n",
      " [   1    4    2  961    1   22    1   10    5    3]\n",
      " [   0   13    0    0  927    0    3    3    1   35]\n",
      " [   3    1    0   25    0  840    9    3    5    6]\n",
      " [   9    2    0    1    4    4  937    0    1    0]\n",
      " [   0   27    4    1    2    0    0  982    0   12]\n",
      " [   8    7    9   30    8   32    4    6  860   10]\n",
      " [   4    7    2    9   16    7    1   20    2  941]]\n",
      "0.9527\n"
     ]
    }
   ],
   "source": [
    "#Testing the classifier\n",
    "from scipy.stats import mode\n",
    "from sklearn import metrics as evalMetrics\n",
    "\n",
    "#%time testNearestPoints = model.kneighbors(test_x)\n",
    "#testPred = train_set[1][testNearestPoints[1]]\n",
    "#testPred = [mode(i)[0][0] for i in testPred]\n",
    "\n",
    "print evalMetrics.classification_report(test_set[1],testPred)\n",
    "print evalMetrics.confusion_matrix(test_set[1],testPred)\n",
    "print evalMetrics.accuracy_score(test_set[1],testPred)"
   ]
  },
  {
   "cell_type": "code",
   "execution_count": 105,
   "metadata": {
    "collapsed": false
   },
   "outputs": [],
   "source": [
    "#Randomly picking prototypes.\n",
    "def randomPrototypePerformance(n,repeats=10):\n",
    "    PRF = []\n",
    "    Accuracy = []\n",
    "    microFscore = []\n",
    "    \n",
    "    for i in range(repeats):\n",
    "        randomIndices = np.random.randint(0,len(train_set[1]),n)\n",
    "        trainRandom_x = train_x[randomIndices,:]\n",
    "        trainRandom_y = train_set[1][randomIndices]\n",
    "\n",
    "        modelRandomPrototypes = NearestNeighbors(n_neighbors = 1,n_jobs = 7,leaf_size = 90)\n",
    "        modelRandomPrototypes.fit(trainRandom_x)\n",
    "\n",
    "        testNearestPoints = modelRandomPrototypes.kneighbors(test_x)\n",
    "        testPred = trainRandom_y[testNearestPoints[1]]\n",
    "        testPred = [mode(i)[0][0] for i in testPred]\n",
    "\n",
    "        PRF.append(evalMetrics.classification.precision_recall_fscore_support(test_set[1],testPred))\n",
    "        Accuracy.append(evalMetrics.accuracy_score(test_set[1],testPred))\n",
    "        microFscore.append(evalMetrics.f1_score(test_set[1],testPred,average = \"macro\"))\n",
    "    \n",
    "    Accuracy = np.array(Accuracy)\n",
    "    \n",
    "    Mean_accuracy = np.mean(Accuracy)\n",
    "    Std_accuracy = np.std(Accuracy)\n",
    "    \n",
    "    Mean_microf = np.mean(microFscore)\n",
    "    Std_microf = np.std(microFscore)\n",
    "    \n",
    "    P,R,F,S = zip(*PRF)\n",
    "\n",
    "    F = np.matrix(F)\n",
    "    Fstd = np.std(F,axis=0)     \n",
    "    Fmean = np.mean(F,axis=0)\n",
    "    \n",
    "    return (Mean_accuracy,Std_accuracy,Mean_microf,Std_microf)"
   ]
  },
  {
   "cell_type": "code",
   "execution_count": 12,
   "metadata": {
    "collapsed": false
   },
   "outputs": [
    {
     "name": "stdout",
     "output_type": "stream",
     "text": [
      "Label 0 in progress.\n",
      "Label 1 in progress.\n",
      "Label 2 in progress.\n",
      "Label 3 in progress.\n",
      "Label 4 in progress.\n",
      "Label 5 in progress.\n",
      "Label 6 in progress.\n",
      "Label 7 in progress.\n",
      "Label 8 in progress.\n",
      "Label 9 in progress.\n",
      "Done\n"
     ]
    }
   ],
   "source": [
    "from collections import defaultdict\n",
    "from tempfile import mkdtemp\n",
    "import os.path as path\n",
    "import heapq\n",
    "import math\n",
    "\n",
    "class heapPoint:\n",
    "    \n",
    "    def __init__(self,x,y):\n",
    "        self.value = x\n",
    "        self.index = y\n",
    "    \n",
    "    def __cmp__(self,obj):\n",
    "        \n",
    "        if self.value>obj.value:\n",
    "            return -1\n",
    "        else:\n",
    "            return 1\n",
    "            \n",
    "class memmappedDistanceMatrix:\n",
    "    \n",
    "    def __init__(self,Data,Labels):\n",
    "        \n",
    "        self.noItems = Data.shape[0]\n",
    "        \n",
    "        #Create hashmap for original indices to compound (label,subIndex) indices\n",
    "        self.indexLookupTable = dict()\n",
    "        offset = defaultdict(int)\n",
    "        \n",
    "        #Partition data by labels\n",
    "        self.labelSetIndices = defaultdict(list)\n",
    "        \n",
    "        for index,label in enumerate(Labels):\n",
    "            self.indexLookupTable[index] = (label,offset[label]) \n",
    "            offset[label] += 1\n",
    "            self.labelSetIndices[label].append(index)\n",
    "        \n",
    "        #Create the memory mapped distance matrices\n",
    "        self.distanceMatrices = dict()\n",
    "\n",
    "        for i in self.labelSetIndices.keys():\n",
    "            filename = 'Label_'+str(i)+'.dat'\n",
    "            print \"Label \" + str(i) + \" in progress.\"\n",
    "            \n",
    "            hammingMat = np.dot(train_x[self.labelSetIndices[i],:],np.transpose(1-train_x[self.labelSetIndices[i],:])) + np.dot(1-train_x[self.labelSetIndices[i],:],np.transpose(train_x[self.labelSetIndices[i],:]))\n",
    "            #memMat = np.memmap(filename, dtype='int16', mode='w+', shape=hammingMat.shape)\n",
    "            #memMat[:] = hammingMat[:]\n",
    "            #memMat.flush()\n",
    "            #del memMat\n",
    "            #del hammingMat\n",
    "\n",
    "            self.distanceMatrices[i] = hammingMat\n",
    "\n",
    "        print \"Done\"\n",
    "    \n",
    "    def __getitem__(self,index):\n",
    "        \n",
    "        labelIndex,offset = self.indexLookupTable[index]\n",
    "        \n",
    "        #distanceVector = np.array([float(\"inf\")]*self.noItems)\n",
    "        #distanceVector[self.labelSetIndices[labelIndex]] = self.distanceMatrices[labelIndex][offset,:]\n",
    "        \n",
    "        return self.distanceMatrices[labelIndex][offset,:]\n",
    "    \n",
    "    def getLabelMatrix(self,label):    \n",
    "        return self.distanceMatrices[label]\n",
    "\n",
    "#distMat = memmappedDistanceMatrix(train_x,train_set[1])"
   ]
  },
  {
   "cell_type": "code",
   "execution_count": 40,
   "metadata": {
    "collapsed": false
   },
   "outputs": [
    {
     "name": "stdout",
     "output_type": "stream",
     "text": [
      "Initializing prototypes\n",
      "Populating the heap for optimized lazy function evaluations\n",
      "Initialization Complete\n",
      "CPU times: user 3min 45s, sys: 437 ms, total: 3min 45s\n",
      "Wall time: 3min 46s\n"
     ]
    }
   ],
   "source": [
    "from sklearn.neighbors import NearestNeighbors\n",
    "from itertools import chain\n",
    "import copy\n",
    "import random\n",
    "import sys\n",
    "\n",
    "class nnModel:\n",
    "    \"\"\"Model class to train NN model by selecting prototypes\"\"\"\n",
    "    \n",
    "    def __init__(self,Data,Labels,Alpha = 1,Beta = 0.01,distMat = None):\n",
    "        \n",
    "        self.Alpha = Alpha\n",
    "        self.Beta = Beta\n",
    "        self.Labels = Labels\n",
    "        self.Data = Data\n",
    "        \n",
    "        #Initialize max heap for marginal gains\n",
    "        self.marginalGainHeap = []\n",
    "        \n",
    "        #Create the memory mapped distance matrices\n",
    "        if distMat == None:\n",
    "            print \"Computing distance matrices\"\n",
    "            self.distanceMatrix = memmappedDistanceMatrix(Data,Labels)  \n",
    "        else:\n",
    "            self.distanceMatrix = distMat\n",
    "            \n",
    "        #Per class prototype set\n",
    "        self.prototypeSets = defaultdict(list)\n",
    "        self.prototypeSize = 0.0\n",
    "\n",
    "        #Closest distance to every point. Maintained to use in computing delta.\n",
    "        self.minDistances = np.array([float(\"inf\")]*len(Labels))\n",
    "        \n",
    "        #Initialize prototype points in each class\n",
    "        self.initialPrototypes = []\n",
    "        \n",
    "        print \"Initializing prototypes\"\n",
    "        \n",
    "        for label in set(self.Labels):\n",
    "            prototypeIndex = np.argmin(np.sum(self.distanceMatrix.distanceMatrices[label],axis = 1))\n",
    "            self.initialPrototypes.append(self.distanceMatrix.labelSetIndices[label][prototypeIndex])\n",
    "            self.updateSolution(self.distanceMatrix.labelSetIndices[label][prototypeIndex])\n",
    "        \n",
    "        #Populate the heap\n",
    "        print \"Populating the heap for optimized lazy function evaluations\"\n",
    "        for index in range(len(self.Labels)):\n",
    "            heapq.heappush(self.marginalGainHeap,heapPoint(self.computeDelta(index),index))\n",
    "        \n",
    "        #Store a copy of the initial heap for retrains\n",
    "        self.marginalGainHeapInitialValue = copy.deepcopy(self.marginalGainHeap)\n",
    "        \n",
    "        print \"Initialization Complete\"\n",
    "    \n",
    "    def updateSolution(self,index):\n",
    "        \n",
    "        label = self.Labels[index]\n",
    "        self.prototypeSets[label].append(index)\n",
    "        \n",
    "        self.minDistances[self.distanceMatrix.labelSetIndices[label]] = np.minimum(self.minDistances[self.distanceMatrix.labelSetIndices[label]],self.distanceMatrix[index])\n",
    "        \n",
    "        #print self.minDistances\n",
    "        \n",
    "        self.prototypeSize += 1\n",
    "    \n",
    "    def computeDelta(self,index):\n",
    "        \n",
    "        #Should you consider other prototypes for delta calculation. Currently everything considered.\n",
    "        label = self.Labels[index]\n",
    "           \n",
    "        #Compare distance between point ind and all other points in the same set\n",
    "        deltaFit = self.minDistances[self.distanceMatrix.labelSetIndices[label]] - self.distanceMatrix[index]\n",
    "        deltaFit = float(sum(deltaFit[(deltaFit>0)]))#/len(self.Labels)\n",
    "        \n",
    "        deltaSetExpansionPrior = self.Alpha*math.log(self.prototypeSize / (self.prototypeSize + 1)) - self.Beta\n",
    "        deltaPrior = 0\n",
    "        \n",
    "        for i in set(self.Labels):\n",
    "            deltaPrior += (label == i) * math.log( float(len(self.prototypeSets[label]) + 1)/len(self.prototypeSets[label]) )\n",
    "        \n",
    "        deltaPrior = self.Alpha*float(deltaPrior)#/len(self.Labels)\n",
    "        \n",
    "        delta = ( (deltaFit + deltaPrior)/len(self.Labels) ) + deltaSetExpansionPrior\n",
    "        \n",
    "        self.deltaLog.append( (deltaFit/len(self.Labels),deltaPrior/len(self.Labels),deltaSetExpansionPrior) )\n",
    "        return delta\n",
    "    \n",
    "    def findNextCandidate(self):\n",
    "        \n",
    "        \"\"\" Search for next optimal. Uses submodular property to search for the next candidate using lazy evaluations\"\"\"\n",
    "        \n",
    "        delta = float(\"-inf\")\n",
    "        optimalIndex = np.nan\n",
    "        optimatValue = float(\"-inf\")\n",
    "        numEvals = 0\n",
    "        while numEvals<len(self.Labels)+1:\n",
    "            \n",
    "            upperBoundBestDelta = heapq.heappop(self.marginalGainHeap)\n",
    "            \n",
    "            if upperBoundBestDelta.value < 0:\n",
    "                break\n",
    "            \n",
    "            #Compute exact delta for point\n",
    "            delta = self.computeDelta(upperBoundBestDelta.index)\n",
    "            \n",
    "            if delta > self.marginalGainHeap[0].value:\n",
    "                break\n",
    "            else:\n",
    "                #Put point back with updated bound\n",
    "                heapq.heappush(self.marginalGainHeap,heapPoint(delta,upperBoundBestDelta.index))\n",
    "            numEvals += 1\n",
    "        \n",
    "        #Pick this point\n",
    "        optimalIndex = self.marginalGainHeap[0].index\n",
    "        optimalValue = self.marginalGainHeap[0].value\n",
    "        \n",
    "        #print \"The optimal point was:\"+str(optimalValue)\n",
    "        #print \"The number of evaluations was: \"+str(numEvals)+\"\\n\"\n",
    "        return (optimalValue,optimalIndex)\n",
    "    \n",
    "    def train(self,cardinalityConstraint = 1000,Alpha = 1, Beta = 0.1):\n",
    "        \n",
    "        self.Alpha = Alpha\n",
    "        self.Beta = Beta\n",
    "        self.deltaLog = []\n",
    "        \n",
    "        #Per class prototype sets\n",
    "        self.prototypeSets = defaultdict(list)\n",
    "        self.prototypeSize = 0.0\n",
    "        \n",
    "        #Closest distance to every point. Maintained to use in computing delta.\n",
    "        self.minDistances = np.array([float(\"inf\")]*len(self.Labels))\n",
    "        \n",
    "        #Restore inital heap\n",
    "        self.marginalGainHeap = copy.deepcopy(self.marginalGainHeapInitialValue)\n",
    "        \n",
    "        #Restore initial prototypes\n",
    "        for i in self.initialPrototypes:\n",
    "            self.updateSolution(i)\n",
    "        \n",
    "        #Optimization\n",
    "        print \"Finding Prototypes\"\n",
    "        nextCandidateValue = float(\"inf\")\n",
    "        nextIndex = np.nan\n",
    "        optGraph= []\n",
    "        \n",
    "        while True:\n",
    "            nextCandidateValue,nextIndex = self.findNextCandidate()\n",
    "            optGraph.append(nextCandidateValue)\n",
    "            \n",
    "            if nextCandidateValue>0 and self.prototypeSize<cardinalityConstraint:\n",
    "                self.updateSolution(nextIndex)\n",
    "            else:\n",
    "                break\n",
    "            \n",
    "            if random.random()<0.3:\n",
    "                 sys.stdout.write(\"\\r\"+str(100*self.prototypeSize/cardinalityConstraint)+\"% complete\")\n",
    "        \n",
    "        print \"\\nForming the search tree\"\n",
    "        \n",
    "        self.kdTreePrototypes = NearestNeighbors(n_neighbors = 1,n_jobs = 7,leaf_size = 90,metric = 'hamming')\n",
    "        \n",
    "        self.allPrototypes = []\n",
    "        for i in self.prototypeSets.keys():\n",
    "            self.allPrototypes += self.prototypeSets[i]\n",
    "        \n",
    "        self.allPrototypes = np.array(self.allPrototypes)\n",
    "        \n",
    "        self.kdTreePrototypes.fit(self.Data[self.allPrototypes,:])\n",
    "        \n",
    "        print \"Training done\"\n",
    "        \n",
    "        return self.deltaLog\n",
    "    \n",
    "    def predict(self,testData):\n",
    "        \n",
    "        testNearestPoints = self.kdTreePrototypes.kneighbors(testData)\n",
    "        testNearestIndices = np.array(testNearestPoints[1])\n",
    "        testPred = self.Labels[self.allPrototypes[testNearestIndices]]\n",
    "        testPred = [mode(i)[0][0] for i in testPred]\n",
    "        \n",
    "        return testPred\n",
    "        \n",
    "\n",
    "#%time model = nnModel(train_x,train_set[1],Alpha = 1,Beta = 0.1,distMat = distMat)"
   ]
  },
  {
   "cell_type": "code",
   "execution_count": 49,
   "metadata": {
    "collapsed": false
   },
   "outputs": [
    {
     "name": "stdout",
     "output_type": "stream",
     "text": [
      "Model saved\n"
     ]
    }
   ],
   "source": [
    "#from sklearn.externals import joblib\n",
    "#modelCopy = copy.deepcopy(model)\n",
    "#joblib.dump(model,'nnPrototypeSelectionModel.pkl')\n",
    "#model = joblib.load('nnPrototypeSelectionModel.pkl')\n",
    "#print \"Model saved\"\n",
    "model = joblib.load('nnPrototypeSelectionModel.pkl') "
   ]
  },
  {
   "cell_type": "code",
   "execution_count": 114,
   "metadata": {
    "collapsed": false
   },
   "outputs": [
    {
     "name": "stdout",
     "output_type": "stream",
     "text": [
      "Finding Prototypes\n",
      "90.0% complete\n",
      "Forming the search tree\n",
      "Training done\n",
      "50.0\n",
      "Finding Prototypes\n",
      "96.0% complete\n",
      "Forming the search tree\n",
      "Training done\n",
      "100.0\n",
      "Finding Prototypes\n",
      "96.0% complete\n",
      "Forming the search tree\n",
      "Training done\n",
      "200.0\n",
      "Finding Prototypes\n",
      "98.2% complete\n",
      "Forming the search tree\n",
      "Training done\n",
      "500.0\n",
      "Finding Prototypes\n",
      "99.9% complete\n",
      "Forming the search tree\n",
      "Training done\n",
      "1000.0\n",
      "Finding Prototypes\n",
      "100.0% complete\n",
      "Forming the search tree\n",
      "Training done\n",
      "5000.0\n",
      "Finding Prototypes\n",
      "50.67% complete\n",
      "Forming the search tree\n",
      "Training done\n",
      "5070.0\n"
     ]
    }
   ],
   "source": [
    "#Testing on 500 points selection\n",
    "\n",
    "from scipy import stats\n",
    "z_critical = stats.norm.ppf(q = 0.975)\n",
    "\n",
    "nrandomsamples = 10\n",
    "nprototypesList = [50,100,200,500,1000,5000,10000]\n",
    "\n",
    "greedyPerfFscore = []\n",
    "greedyPerfAccuracy = []\n",
    "randomPerfSamples = []\n",
    "\n",
    "for nprototypes in nprototypesList:\n",
    "    optimgraph = model.train(nprototypes,5,0)\n",
    "    print model.prototypeSize\n",
    "    testPred = model.predict(test_x)\n",
    "\n",
    "    greedyPerfFscore.append(evalMetrics.classification.f1_score(test_set[1],testPred,average='macro'))\n",
    "    greedyPerfAccuracy.append(evalMetrics.accuracy_score(test_set[1],testPred))\n",
    "\n",
    "    randomPerfSamples.append(randomPrototypePerformance(nprototypes,nrandomsamples))\n",
    "    \n",
    "\n",
    "Mean_accuracy,Std_accuracy,Mean_microf,Std_microf = zip(*randomPerfSamples)"
   ]
  },
  {
   "cell_type": "code",
   "execution_count": 139,
   "metadata": {
    "collapsed": false
   },
   "outputs": [
    {
     "data": {
      "image/png": "[encoded data removed]",
      "text/plain": [
       "<matplotlib.figure.Figure at 0x120bd2610>"
      ]
     },
     "metadata": {},
     "output_type": "display_data"
    },
    {
     "data": {
      "image/png": "[encoded data removed]",
      "text/plain": [
       "<matplotlib.figure.Figure at 0x135c82490>"
      ]
     },
     "metadata": {},
     "output_type": "display_data"
    }
   ],
   "source": [
    "#Plot results\n",
    "\n",
    "SerrMargin = z_critical*np.array(Std_microf)/math.sqrt(nrandomsamples)\n",
    "plt.plot(nprototypesList,greedyPerfFscore,marker = 'o',label = 'Proposed Method')\n",
    "plt.errorbar(nprototypesList,Mean_microf,SerrMargin,label = 'Random Selection')\n",
    "plt.xlim(min(nprototypesList)-10,max(nprototypesList)+10)\n",
    "#plt.title(\" Comparison\")\n",
    "plt.xscale('log')\n",
    "plt.xlabel('Number of Prototypes')\n",
    "plt.ylabel('Macro-Fscore')\n",
    "plt.grid()\n",
    "plt.legend(loc = 4)\n",
    "plt.savefig('FscoreComparison.pdf')\n",
    "plt.show()\n",
    "\n",
    "SerrMargin = z_critical*np.array(Std_accuracy)/math.sqrt(nrandomsamples)\n",
    "plt.plot(nprototypesList,greedyPerfAccuracy,marker = 'o',label = 'Proposed Method')\n",
    "plt.errorbar(nprototypesList,Mean_accuracy,SerrMargin,label = 'Random Selection')\n",
    "plt.xlim(min(nprototypesList)-10,max(nprototypesList)+10)\n",
    "#plt.title(\"Accuracy Comparison\")\n",
    "plt.xscale('log')\n",
    "plt.xlabel('Number of Prototypes')\n",
    "plt.ylabel(\"Accuracy\")\n",
    "plt.grid()\n",
    "plt.legend(loc=4)\n",
    "plt.savefig('AccuracyComparison.pdf')\n",
    "plt.show()"
   ]
  },
  {
   "cell_type": "code",
   "execution_count": 117,
   "metadata": {
    "collapsed": false
   },
   "outputs": [
    {
     "name": "stdout",
     "output_type": "stream",
     "text": [
      "(0.58467000000000002, 0.67232999999999998, 0.75182999999999989, 0.81969999999999987, 0.85848999999999998, 0.91653000000000007, 0.92920999999999998)\n",
      "(0.568831235091939, 0.6614890628159672, 0.74740735832087124, 0.81743640261382622, 0.8568514810681378, 0.91586238296711264, 0.92866554231886533)\n",
      "[0.68709584200444207, 0.72851602385688119, 0.77827217960746498, 0.86306209111042931, 0.88883720058493942, 0.92584429350575326, 0.92617526094646863]\n",
      "[0.69220000000000004, 0.73440000000000005, 0.78410000000000002, 0.86519999999999997, 0.89049999999999996, 0.92659999999999998, 0.92689999999999995]\n"
     ]
    }
   ],
   "source": [
    "print Mean_accuracy\n",
    "print Mean_microf\n",
    "print greedyPerfFscore\n",
    "print greedyPerfAccuracy"
   ]
  }
 ],
 "metadata": {
  "kernelspec": {
   "display_name": "Python 2",
   "language": "python",
   "name": "python2"
  },
  "language_info": {
   "codemirror_mode": {
    "name": "ipython",
    "version": 2
   },
   "file_extension": ".py",
   "mimetype": "text/x-python",
   "name": "python",
   "nbconvert_exporter": "python",
   "pygments_lexer": "ipython2",
   "version": "2.7.11"
  }
 },
 "nbformat": 4,
 "nbformat_minor": 0
}
