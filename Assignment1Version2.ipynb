{
 "cells": [
  {
   "cell_type": "markdown",
   "metadata": {},
   "source": [
    "# Introduction\n",
    "The nearest neighbour classifier is a non parametric classification algorithm and has good performance in several applications. Both the memory and time complexity of prediction for the nearest neighbour classifier is dependent on the size of the prototype set. Prototype selection is the process of replacing the training set with a carefully chosen set of prototypes to speed up prediction while trying to retain good performance. Here the goal is to propose a method for prototype selection and evaluate it on a practical dataset.     \n",
    "First we go through a brief description of the method and then present a more detailed description of the cost function in the next section to understand the method better. A form for $p(X \\mid y,S)$ is assumed (S is the set of prototypes, X denotes the training examples and y the training labels) where the probability of each point depends only on its nearest neighbor from the prototype set having the same label. Using this assumption, we attempt to maximize $f(S) = \\log\\lbrack p(S \\mid X,y) \\rbrack$  to find the maximum aposteriori set of prototypes $S^{*}$. Although this is a combinatorial optimization problem, we observe that f(S) is a submodular, monotone function. For this class of functions, approximate greedy inference has been both practically and theoretically shown to be useful. Hence we use a greedy algorithm to maximize f(S) to obtain an approximation $S$ to the maximum aposterior solution $S^{*}$.  \n",
    "\n",
    "# Description of cost function\n",
    "We take a more detailed look at the cost function in order to better understand the method. For some subset S of the input examples, let us consider the posterior probability of S.\n",
    "$$p(S | X,y) ∝ p(X | y,S)p(y | S)p(S)$$  \n",
    "$$\\implies \\log \\lbrack p(S | X, y) \\rbrack = \\log p(X | y, S)  + \\log p(y | S)  + \\log p(S)  + c$$  \n",
    "where c is a constant. We maximize this function assuming a specific form p(X | y,S) that satisfies two main conditions \n",
    "* It accurately captures the requirements for good classification of a nearest neighbour classifier\n",
    "* The resulting cost function is submodular\n",
    "\n",
    "To do this, we assume that the probability of a feature vector is related to the nearest neighbor which has the same label as that feature vector. Specifically, we assume\n",
    "$$p(X \\mid y,S) = \\prod_{i} max_{r\\in S_{y_{i}}}e^{-\\alpha ||x_{i} - r||_{2}^2}$$\n",
    "where $S_{y_{i}}$ represents the subset of $S$ with label equal to $y_{i}$. We also assume that the probability of any prototypes set is proportional to $e^{-\\beta |S|}$. This allows us to tradeoff the size of the prototypes set to the performance of the classifier by adjusting the value of $\\beta$.\n",
    "\n",
    "Substituting these in and making rearrangements, we get the cost function\n",
    "\n",
    "$$f(S) = \\sum_{i} \\log  \\big\\lbrack p(x_{i} \\mid y_{i},S)\\big\\rbrack$$  \n",
    "$$\\implies f(S) = \\sum_{i} \\bigg\\lbrack -min_{x_{k} \\in S_{y_{i}}} \\frac{||x_{i} - x_{k}||_{2}^{2}}{n} + \\alpha \\frac{\\log \\big\\lbrack p(y_{i} \\mid S) \\big\\rbrack }{n} \\bigg\\rbrack -\\beta |S|$$\n",
    "where $\\alpha$ and $\\beta$ are hyper-parameters, $p(y_{i} \\mid S)$ is just the proportion of prototypes of label $y_{i}$ in set $S$ and n is the number of examples in the training set. This function can be shown to be submodular. The proof could be done for example by showing that each $p(x_{i} \\mid y_{i},S)$ is submodular and hence the sum is submodular. \n",
    "\n",
    "# Data description\n",
    "The MNIST dataset is used to demonstrate and evaluate the proposed method. A detailed description of the dataset can be found [here](http://yann.lecun.com/exdb/mnist/). The preprocessing done here is to scale the data between 0 and 1 and subsequently threshold at 0.5 and make the data binary. "
   ]
  },
  {
   "cell_type": "code",
   "execution_count": 1,
   "metadata": {
    "collapsed": false
   },
   "outputs": [
    {
     "name": "stderr",
     "output_type": "stream",
     "text": [
     ]
    }
   ],
   "source": [
    "# Load the dataset\n",
    "%matplotlib inline\n",
    "import cPickle, gzip, numpy\n",
    "import numpy as np\n",
    "import matplotlib.pyplot as plt\n",
    "from sklearn.neighbors import NearestNeighbors\n",
    "from itertools import chain\n",
    "import copy\n",
    "import random\n",
    "import sys\n",
    "import functools\n",
    "import scipy.spatial.distance as distance\n",
    "import math\n",
    "import cProfile\n",
    "import numpy as np\n",
    "from multiprocess import Pool\n",
    "from multiprocessing import Manager,Lock\n",
    "import numpy as np\n",
    "from collections import defaultdict\n",
    "from scipy.spatial.distance import hamming\n",
    "import heapq\n",
    "from collections import namedtuple\n",
    "import unittest\n",
    "import sklearn.metrics as metrics\n",
    "import os\n",
    "import pandas as pd\n",
    "import sys\n",
    "\n",
    "f = gzip.open('mnist.pkl.gz', 'rb')\n",
    "train_set, valid_set, test_set = cPickle.load(f)\n",
    "f.close()\n",
    "\n",
    "train_x = 1*(train_set[0]>0.5)\n",
    "test_x = 1*(test_set[0]>0.5)\n",
    "valid_x = 1*(valid_set[0]>0.5)"
   ]
  },
  {
   "cell_type": "markdown",
   "metadata": {},
   "source": [
    "Now we define generic functions to perform submodular maximization greedily. The docstrings describe the functions in more detail. One optimization that significantly speeds up computation is lazy function evaluation.  It is described in more detail in my blog [here](http://shriramck.blogspot.com/2016/10/submodular-function-maximization-use.html). The functions are tested on a simple instance of the set cover problem. "
   ]
  },
  {
   "cell_type": "code",
   "execution_count": 2,
   "metadata": {
    "collapsed": false
   },
   "outputs": [
    {
     "name": "stdout",
     "output_type": "stream",
     "text": [
      "\r",
      "33.333333% done; Value of objective: 6.000000\r",
      "66.666667% done; Value of objective: 8.000000\r",
      "100.000000% done; Value of objective: 9.000000\n",
      "\n",
      "solution(sopt=[set([1, 2, 4, 5, 6]), set([8, 7]), set([1, 3, 4])], fopt=9)\n"
     ]
    }
   ],
   "source": [
    "def fprime_manual(f,x,s,args = ()):\n",
    "    \"\"\"\n",
    "    Manual calculation of marginal gain. If there is a optimal custom implementation\n",
    "    this should be overidden by supplying the fprime argument. Similar in spirit to \n",
    "    numerical gradient calculation.\n",
    "    \n",
    "    Parameters:\n",
    "    __________\n",
    "    f: callable f(x,s,*args); the objective function\n",
    "    x: element of input set to calculate marginal gain for\n",
    "    args: tuple (optinal); additional arguments to be supplied to f\n",
    "    \n",
    "    Returns:\n",
    "    _______\n",
    "    Marginal gain for element x, set s for function f\n",
    "    \"\"\"\n",
    "    \n",
    "    \"Checking if solution class has all required interfaces\"\n",
    "    if hasattr(s,\"__len__\") & hasattr(s,\"append\") & hasattr(s,\"__contains__\"):\n",
    "        l = getattr(s,\"__len__\")\n",
    "        ap = getattr(s,\"append\")\n",
    "        in_func = getattr(s,\"__contains__\")\n",
    "        \n",
    "        if callable(l) & callable(ap) & callable(in_func):\n",
    "            pass\n",
    "        else:\n",
    "            raise TypeError(\"Solution class improperly defined\")\n",
    "    else:\n",
    "        raise TypeError(\"Solution class improperly defined\")\n",
    "    \n",
    "    if x in s:\n",
    "        return 0\n",
    "    else:\n",
    "        s_new = copy.deepcopy(s)\n",
    "        s_current = copy.deepcopy(s_new)\n",
    "        \n",
    "        s_new.append(x)\n",
    "        return f(s_new,*args) - f(s_current,*args)\n",
    "\n",
    "def fmax_submodular(f,s,fprime = None,sopt = None,k=float(\"Inf\"),verbose = False,args=()):\n",
    "    \n",
    "    \"\"\"\n",
    "    Maximize a submodular function using the greedy method.\n",
    "    \n",
    "    Parameters:\n",
    "    __________\n",
    "    s: set of elements, search is performed over the powerset P(s).\n",
    "    f: callable f(x,*args)\n",
    "    fprime: callable fprime(x,s);If not supplied, defaults to manual cauculation\n",
    "    args: tuple (optional) additional arguments to be passed to f\n",
    "    k: Cardinatlity constraint |S|<k is enforced\n",
    "    sopt: Custom solution class. Must provide certain interfaces corresponding to basic set \n",
    "    operations such as append-set construction, len-set size, contains-membership testing\n",
    "    \n",
    "    Returns:\n",
    "    _______\n",
    "    sopt: Optimal set for f\n",
    "    fopt: Value of the function at the optimal point\n",
    "    \"\"\"\n",
    "    \n",
    "    if fprime == None:\n",
    "        fprime = lambda x,s: fprime_manual(f,x,s,args)\n",
    "    \n",
    "    \"Checking if solution class has all required interfaces\"\n",
    "    if sopt == None:\n",
    "        sopt = []\n",
    "    elif hasattr(sopt,\"__len__\") & hasattr(sopt,\"append\") & hasattr(sopt,\"__contains__\"):\n",
    "        l = getattr(sopt,\"__len__\")\n",
    "        ap = getattr(sopt,\"append\")\n",
    "        in_func = getattr(sopt,\"__contains__\")\n",
    "        \n",
    "        if callable(l) & callable(ap) & callable(in_func):\n",
    "            pass\n",
    "        else:\n",
    "            raise TypeError(\"Solution class improperly defined\")\n",
    "    else:\n",
    "        raise TypeError(\"Solution class improperly defined\")\n",
    "        \n",
    "    fopt = 0\n",
    "\n",
    "    #Populate the heap\n",
    "    #p = Pool(8)\n",
    "    #gens = (i for i in s)\n",
    "    #heap_fprimes = p.map(lambda x: (-fprime(x,sopt),x),gens)\n",
    "    #p.close()\n",
    "    \n",
    "    heap_fprimes = [(-fprime(x,sopt),x) for x in s]\n",
    "    heapq.heapify(heap_fprimes)\n",
    "    \n",
    "    #print heap_fprimes\n",
    "    \n",
    "    while len(sopt)<k:\n",
    "        x = heapq.heappop(heap_fprimes)\n",
    "        x = (-fprime(x[1],sopt),x[1])\n",
    "\n",
    "        while len(heap_fprimes)>0 and x[0]>heap_fprimes[0][0]:\n",
    "            heapq.heappush(heap_fprimes,x)\n",
    "            x = heapq.heappop(heap_fprimes)\n",
    "            x = (-fprime(x[1],sopt),x[1])\n",
    "\n",
    "        if x[0]>=0:\n",
    "            break\n",
    "        else:\n",
    "            sopt.append(x[1])\n",
    "            fopt += -x[0]\n",
    "        if verbose:\n",
    "            percent_progress = 100*float(len(sopt))/(float(k)-1)\n",
    "            sys.stdout.write(\"\\r%f%% done; Value of objective: %f\" % (percent_progress,fopt))\n",
    "           \n",
    "    solution = namedtuple(\"solution\",[\"sopt\",\"fopt\"])\n",
    "    print \"\\n\"\n",
    "    return solution(sopt,fopt)\n",
    "\n",
    "def set_cover(s):\n",
    "\tif len(s)==0:\n",
    "\t\treturn 0\n",
    "\telse:\n",
    "\t\treturn len(reduce(lambda x,y:x|y,s))+1\n",
    "\n",
    "soln = fmax_submodular(set_cover,[{1,2},{1,3,4},{1,2,4,5,6},{7,8}],k = 4,verbose = True)\n",
    "print soln"
   ]
  },
  {
   "cell_type": "markdown",
   "metadata": {},
   "source": [
    "Below we define a custom solution class. We use this class to perform fast evaluations of the objective function and gradient by maintaining some state. "
   ]
  },
  {
   "cell_type": "code",
   "execution_count": 3,
   "metadata": {
    "collapsed": false
   },
   "outputs": [],
   "source": [
    "class solution:\n",
    "    \n",
    "    def __init__(self,x,y):\n",
    "        \n",
    "        self.train_data = x\n",
    "        self.train_labels = y\n",
    "        self.label_mapping = defaultdict(list)\n",
    "        self.distances = dict()\n",
    "        self.solution = []\n",
    "        self.data_currentdistances = [float(784)]*x.shape[0]\n",
    "        self.solution_sizes = defaultdict(int)\n",
    "        self.distance_matrices = dict()\n",
    "        self.index_map = dict()\n",
    "        \n",
    "        for index,label in enumerate(train_set[1]):\n",
    "            self.label_mapping[label].append(index)\n",
    "            self.index_map[index] = len(self.label_mapping[label])-1\n",
    "        \n",
    "        for label in self.label_mapping:\n",
    "            label_set = self.label_mapping[label]\n",
    "            self.distance_matrices[label] = np.inner(x[label_set,],1-x[label_set,]) + np.inner(1-x[label_set,],x[label_set,])\n",
    "            \n",
    "    def append(self,ind):\n",
    "        delta = 0\n",
    "        if ind in self:\n",
    "            return delta\n",
    "        else:\n",
    "            for matrix_index,point_index in enumerate(self.label_mapping[self.train_labels[ind]]):\n",
    "                new_dist = self.distance_matrices[self.train_labels[ind]][self.index_map[ind],matrix_index]\n",
    "                new_pdist = min(self.data_currentdistances[point_index],new_dist)\n",
    "                delta += self.data_currentdistances[point_index] - new_pdist\n",
    "                self.data_currentdistances[point_index] = new_pdist\n",
    "            self.solution.append(ind)\n",
    "            self.solution_sizes[self.train_labels[ind]] += 1\n",
    "            return delta\n",
    "    \n",
    "    def clear_solution(self):\n",
    "        self.solution = []\n",
    "        self.data_currentdistances = [float(784)]*self.train_data.shape[0]\n",
    "        self.solution_sizes = defaultdict(int)\n",
    "        return True\n",
    "        \n",
    "    def __repr__(self):\n",
    "        return str(self.solution)\n",
    "    \n",
    "    def __len__(self):\n",
    "        return len(self.solution)\n",
    "    \n",
    "    def __contains__(self,item):\n",
    "        return item in self.solution\n",
    "\n",
    "#Getting the solution construction profile    \n",
    "s = solution(train_x,train_set[1])"
   ]
  },
  {
   "cell_type": "markdown",
   "metadata": {},
   "source": [
    "The gradient and objective function for the nearest neighbour classifier is defined based on the solution class defined previously. A predict function to output classes for test datasets is also defined. Using the numerical fprime calculation method, the grad function is checked to ensure correctness. This is similar to check grad often performed when implementing gradients in machine learning applications."
   ]
  },
  {
   "cell_type": "code",
   "execution_count": 9,
   "metadata": {
    "collapsed": false
   },
   "outputs": [
    {
     "name": "stdout",
     "output_type": "stream",
     "text": [
      "Checking gradient correctness using numerical calculation\n",
      "Error in gradient was: 1.03736463863e-15\n",
      "Error in gradient was: 3.41393580072e-15\n",
      "Error in gradient was: 5.88418203051e-15\n",
      "Error in gradient was: 3.33066907388e-16\n",
      "Error in gradient was: 5.66907631949e-15\n"
     ]
    }
   ],
   "source": [
    "def grad(ind,self,alpha = 0,beta = 0):\n",
    "   \n",
    "    delta = 0\n",
    "    if ind in self:\n",
    "        return 0\n",
    "    else:        \n",
    "        for matrix_index,point_index in enumerate(self.label_mapping[self.train_labels[ind]]):\n",
    "            new_dist = self.distance_matrices[self.train_labels[ind]][self.index_map[ind],matrix_index]\n",
    "            delta += self.data_currentdistances[point_index] - min(self.data_currentdistances[point_index],new_dist)   \n",
    "            if self.solution_sizes[self.train_labels[ind]] != 0:\n",
    "                delta += alpha*math.log( (self.solution_sizes[self.train_labels[ind]]+1)/self.solution_sizes[self.train_labels[ind]] )\n",
    "        \n",
    "        delta = delta/len(self.train_labels) - beta\n",
    "         \n",
    "        if len(self.solution)>0:\n",
    "            delta += alpha*math.log( float(len(self.solution))/(len(self.solution) + 1) )\n",
    "        \n",
    "        return delta\n",
    "\n",
    "def objective_function(s,alpha = 0,beta = 0):\n",
    "    \"\"\"\n",
    "    Arguments:\n",
    "    _________\n",
    "    s represents the dictionary containing the list of prototypes for each label\n",
    "    \"\"\"\n",
    "    cost = -sum(s.data_currentdistances)\n",
    "     \n",
    "    for label in s.train_labels:\n",
    "        try:\n",
    "            cost += alpha*math.log(s.solution_sizes[label]/float(len(s.solution)))\n",
    "        except ValueError:\n",
    "            return float(\"-Inf\")\n",
    "            \n",
    "    cost = cost/float(s.train_data.shape[0]) - beta*len(s.solution)\n",
    "    \n",
    "    return cost\n",
    "\n",
    "def predict(sol,test_data):\n",
    "    \n",
    "    s = np.array(sol.solution)\n",
    "    distances = np.dot(1-sol.train_data[s,:],np.transpose(test_data)) + np.dot(sol.train_data[s,:],1-np.transpose(test_data))\n",
    "    dist_indexes = np.zeros((test_data.shape[0],),dtype=int)\n",
    "    val = np.argmin(distances,axis=0,out =dist_indexes)\n",
    "    \n",
    "    return sol.train_labels[s[dist_indexes]]\n",
    "\n",
    "print \"Checking gradient correctness using numerical calculation\"\n",
    "\n",
    "count = 0\n",
    "alp = 0\n",
    "\n",
    "while count<5:\n",
    "    s.clear_solution()\n",
    "    randomIndices = np.random.randint(0,len(train_set[1]),100)\n",
    "    map(s.append,randomIndices)\n",
    "\n",
    "    g = lambda x: fprime_manual(lambda x:objective_function(x,alpha = alp),x,s)\n",
    "    count += 1\n",
    "    \n",
    "    delta = np.random.randint(0,len(train_set[1]))\n",
    "    #print g(delta)\n",
    "    #print grad(delta,s,alpha = alp)\n",
    "    print \"Error in gradient was: \" + str(abs(grad(delta,s,alpha = alp) - g(delta)))"
   ]
  },
  {
   "cell_type": "markdown",
   "metadata": {},
   "source": [
    "For this dataset, we set beta to be 0 and use the cardinality constraint to determine the size of the prototype set. To determine the optimal setting of alpha, the model is trained for different values of alpha and tested on a validation set. The optimal value of alpha is determined based on the performance on this validation set. "
   ]
  },
  {
   "cell_type": "code",
   "execution_count": 5,
   "metadata": {
    "collapsed": true
   },
   "outputs": [
    {
     "name": "stdout",
     "output_type": "stream",
     "text": [
      "Starting; Alpha = 0\n",
      "101.010101% done; Value of objective: 721.097400\n",
      "\n",
      "Performance row: [0.84319999999999995, 0.84172912816727374, 0.84749844594894852, 0.841364863319636]\n",
      "Starting; Alpha = 1\n",
      "101.010101% done; Value of objective: 716.417977\n",
      "\n",
      "Performance row: [0.84250000000000003, 0.84134298932764118, 0.84400736888211136, 0.84067396583046983]\n",
      "Starting; Alpha = 2\n",
      "101.010101% done; Value of objective: 709.637626\n",
      "\n",
      "Performance row: [0.81520000000000004, 0.81728907725306799, 0.82591984961493414, 0.81537115734301735]\n",
      "Starting; Alpha = 3\n",
      "101.010101% done; Value of objective: 705.008710\n",
      "\n",
      "Performance row: [0.79779999999999995, 0.80092817767032631, 0.81088151364660421, 0.79890044750455702]\n",
      "Starting; Alpha = 4\n",
      "101.010101% done; Value of objective: 700.762933\n",
      "\n",
      "Performance row: [0.79379999999999995, 0.79678122571820098, 0.80689960440079767, 0.79443628536146127]\n",
      "Starting; Alpha = 5\n",
      "101.010101% done; Value of objective: 696.935076\n",
      "\n",
      "Performance row: [0.82479999999999998, 0.82562043509976102, 0.83390100471925854, 0.82454791502128411]\n",
      "Starting; Alpha = 6\n",
      "77.777778% done; Value of objective: 692.834788\n",
      "\n",
      "Performance row: [0.81369999999999998, 0.81339537615794055, 0.8192946085246231, 0.81330016588467891]\n",
      "Starting; Alpha = 7\n",
      "59.595960% done; Value of objective: 688.564052\n",
      "\n",
      "Performance row: [0.78720000000000001, 0.78665272512677142, 0.79229142446831669, 0.78560946205061377]\n",
      "Starting; Alpha = 8\n",
      "40.404040% done; Value of objective: 685.036611\n",
      "\n",
      "Performance row: [0.78359999999999996, 0.7819149282208725, 0.79196838865583996, 0.78084875753373029]\n",
      "Starting; Alpha = 9\n",
      "29.292929% done; Value of objective: 682.011838\n",
      "\n",
      "Performance row: [0.74380000000000002, 0.74239083768731562, 0.75712644899688497, 0.74385909969222475]\n",
      "Starting; Alpha = 10\n",
      "29.292929% done; Value of objective: 678.993816\n",
      "\n",
      "Performance row: [0.73240000000000005, 0.73149419368955693, 0.75808870926459915, 0.73423183045282914]\n"
     ]
    }
   ],
   "source": [
    "cv_readings = []\n",
    "alpha_ranges = [0,1,2,3,4,5,6,7,8,9,10]\n",
    "no_prototypes = 100\n",
    "soln = namedtuple(\"soln\",[\"sopt\",\"fopt\"])\n",
    "\n",
    "for alpha in alpha_ranges:\n",
    "    \n",
    "    print \"Starting; Alpha = \" + str(alpha)\n",
    "    \n",
    "    s.clear_solution()\n",
    "    sol_optim = soln(copy.deepcopy(s),0)\n",
    "    \n",
    "    sol_optim = fmax_submodular(lambda x: objective_function(x,alpha = alpha),range(len(train_set[1])),fprime = lambda x,y: grad(x,y,alpha = alpha),sopt = sol_optim.sopt,k=no_prototypes,verbose = True)\n",
    "    pred_test = predict(sol_optim.sopt,valid_x)\n",
    "    \n",
    "    ac = metrics.accuracy_score(pred_test,valid_set[1])\n",
    "    pr = metrics.precision_recall_fscore_support(pred_test,valid_set[1],average=\"macro\")\n",
    "    vlist = list(pr)\n",
    "    vlist = [ac] + vlist[0:-1]\n",
    "    print \"Performance row: \" + str(vlist)\n",
    "    cv_readings.append(vlist)\n",
    "\n",
    "with open(\"cvReadings.dat\",\"w\") as f:\n",
    "    cPickle.dump(cv_readings,f)"
   ]
  },
  {
   "cell_type": "code",
   "execution_count": 8,
   "metadata": {
    "collapsed": false
   },
   "outputs": [
    {
     "name": "stdout",
     "output_type": "stream",
     "text": [
      "    Accuracy  Precision    Recall    Fscore\n",
      "0     0.8432   0.841729  0.847498  0.841365\n",
      "1     0.8425   0.841343  0.844007  0.840674\n",
      "2     0.8152   0.817289  0.825920  0.815371\n",
      "3     0.7978   0.800928  0.810882  0.798900\n",
      "4     0.7938   0.796781  0.806900  0.794436\n",
      "5     0.8248   0.825620  0.833901  0.824548\n",
      "6     0.8137   0.813395  0.819295  0.813300\n",
      "7     0.7872   0.786653  0.792291  0.785609\n",
      "8     0.7836   0.781915  0.791968  0.780849\n",
      "9     0.7438   0.742391  0.757126  0.743859\n",
      "10    0.7324   0.731494  0.758089  0.734232\n"
     ]
    },
    {
     "data": {
      "text/plain": [
       "<matplotlib.axes._subplots.AxesSubplot at 0x10f8d6290>"
      ]
     },
     "execution_count": 8,
     "metadata": {},
     "output_type": "execute_result"
    },
    {
     "data": {
      "image/png": "[encoded data removed]",
      "text/plain": [
       "<matplotlib.figure.Figure at 0x103db7c50>"
      ]
     },
     "metadata": {},
     "output_type": "display_data"
    }
   ],
   "source": [
    "#with open('cvReadings.dat','r') as f:\n",
    "#    cv_readings = cPickle.load(f)\n",
    "\n",
    "dt = pd.DataFrame(cv_readings,index = alpha_ranges,columns = [\"Accuracy\",\"Precision\",\"Recall\",\"Fscore\"])\n",
    "print dt\n",
    "dt.plot()"
   ]
  },
  {
   "cell_type": "markdown",
   "metadata": {},
   "source": [
    "Now we train the model using the chosen alpha value (0) for several subset sizes. To evaluate the random prototype method, we perform 20 trials of random prototype selection for each subset size and evaluate each on the test set. We use accuracy and Fscore as metrics to evaluate the resulting classifier. The accuracy and Fscore are plotted against subset size to show the trends. Boxplots are used for the random subset method to make statistically significant deviations from the proposed method easier to see (Although this is not by itself a hypothesis test). Results are stored on disk by pickling the readings for future reference. "
   ]
  },
  {
   "cell_type": "code",
   "execution_count": 10,
   "metadata": {
    "collapsed": true
   },
   "outputs": [
    {
     "name": "stdout",
     "output_type": "stream",
     "text": [
      "Starting model learning\n",
      "102.040816% done; Value of objective: 714.994360\n",
      "\n",
      "Done with model learning\n",
      "Random model evaluation done\n",
      "Starting model learning\n",
      "101.010101% done; Value of objective: 6.103040\n",
      "\n",
      "Done with model learning\n",
      "Random model evaluation done\n",
      "Starting model learning\n",
      "100.502513% done; Value of objective: 5.212420\n",
      "\n",
      "Done with model learning\n",
      "Random model evaluation done\n",
      "Starting model learning\n",
      "100.200401% done; Value of objective: 6.116520\n",
      "\n",
      "Done with model learning\n",
      "Random model evaluation done\n",
      "Starting model learning\n",
      "100.100100% done; Value of objective: 4.227220\n",
      "\n",
      "Done with model learning\n",
      "Random model evaluation done\n",
      "Starting model learning\n",
      "100.020004% done; Value of objective: 10.766660\n",
      "\n",
      "Done with model learning\n",
      "Random model evaluation done\n"
     ]
    }
   ],
   "source": [
    "readings = []\n",
    "s.clear_solution()\n",
    "\n",
    "soln = namedtuple(\"soln\",[\"sopt\",\"fopt\"])\n",
    "sol_optim = soln(copy.deepcopy(s),0)\n",
    "\n",
    "for subset_size in [50,100,200,500,1000,5000]:\n",
    "\n",
    "    print \"Starting model learning\"\n",
    "    sol_optim = fmax_submodular(objective_function,range(len(train_set[1])),fprime = grad,sopt = sol_optim.sopt,k=subset_size,args = (7),verbose = True)\n",
    "    pred_test = predict(sol_optim.sopt,test_x)\n",
    "    \n",
    "    ac = metrics.accuracy_score(pred_test,test_set[1])\n",
    "    pr = metrics.precision_recall_fscore_support(pred_test,test_set[1],average=\"macro\")\n",
    "    vlist = list(pr)\n",
    "    vlist = [\"Optim\",ac,subset_size] + vlist[0:-1]\n",
    "    readings.append(vlist)\n",
    "    \n",
    "    print \"Done with model learning\"\n",
    "    \n",
    "    trials = 0\n",
    "    while trials<20:\n",
    "        randomIndices = np.random.randint(0,len(train_set[1]),subset_size)\n",
    "        s.clear_solution()\n",
    "        map(s.append,randomIndices)\n",
    "        pred_test = predict(s,test_x)\n",
    "\n",
    "        ac = metrics.accuracy_score(pred_test,test_set[1])\n",
    "        pr = metrics.precision_recall_fscore_support(pred_test,test_set[1],average=\"macro\")\n",
    "        vlist = list(pr)\n",
    "        vlist = [\"Random\",ac,subset_size] + vlist[0:-1]\n",
    "        readings.append(vlist)\n",
    "        trials += 1\n",
    "        \n",
    "    print \"Random model evaluation done\"\n",
    "\n",
    "with open('Readings.dat','w') as f:\n",
    "    cPickle.dump(readings,f)"
   ]
  },
  {
   "cell_type": "code",
   "execution_count": 11,
   "metadata": {
    "collapsed": false,
    "scrolled": true
   },
   "outputs": [
    {
     "name": "stdout",
     "output_type": "stream",
     "text": [
      "    Algorithm  Accuracy  SubsetSize  Precision    Recall    Fscore\n",
      "0       Optim    0.7897          50   0.786323  0.796687  0.786360\n",
      "1      Random    0.5634          50   0.559854  0.596960  0.547609\n",
      "2      Random    0.5701          50   0.562246  0.590038  0.555089\n",
      "3      Random    0.5803          50   0.576835  0.656134  0.573259\n",
      "4      Random    0.5932          50   0.587879  0.645512  0.571024\n",
      "5      Random    0.5804          50   0.578709  0.594723  0.567244\n",
      "6      Random    0.5924          50   0.585062  0.662969  0.577712\n",
      "7      Random    0.5848          50   0.580339  0.639820  0.566202\n",
      "8      Random    0.6440          50   0.638068  0.679248  0.638455\n",
      "9      Random    0.5825          50   0.576115  0.589499  0.555508\n",
      "10     Random    0.5651          50   0.557475  0.618146  0.558342\n",
      "11     Random    0.5538          50   0.547183  0.629379  0.538806\n",
      "12     Random    0.5138          50   0.518669  0.558524  0.500236\n",
      "13     Random    0.6054          50   0.600441  0.636013  0.587033\n",
      "14     Random    0.6141          50   0.607277  0.670110  0.607897\n",
      "15     Random    0.6133          50   0.605591  0.660902  0.594317\n",
      "16     Random    0.5859          50   0.581395  0.601693  0.571902\n",
      "17     Random    0.5752          50   0.565261  0.606253  0.536846\n",
      "18     Random    0.5717          50   0.564323  0.595813  0.549996\n",
      "19     Random    0.5898          50   0.589838  0.628933  0.588495\n",
      "20     Random    0.5702          50   0.563106  0.591313  0.549817\n",
      "21      Optim    0.8361         100   0.833800  0.840738  0.833612\n",
      "22     Random    0.6994         100   0.696246  0.717736  0.687447\n",
      "23     Random    0.6873         100   0.681200  0.698579  0.675595\n",
      "24     Random    0.6718         100   0.667275  0.702195  0.661364\n",
      "25     Random    0.6954         100   0.690080  0.711825  0.686497\n",
      "26     Random    0.7143         100   0.709641  0.734001  0.712115\n",
      "27     Random    0.6724         100   0.667713  0.693532  0.664647\n",
      "28     Random    0.6522         100   0.646507  0.680572  0.645199\n",
      "29     Random    0.6926         100   0.687351  0.711330  0.685384\n",
      "..        ...       ...         ...        ...       ...       ...\n",
      "96     Random    0.8645        1000   0.862639  0.870921  0.863755\n",
      "97     Random    0.8630        1000   0.861090  0.869596  0.862173\n",
      "98     Random    0.8562        1000   0.854076  0.861879  0.854344\n",
      "99     Random    0.8537        1000   0.851566  0.862290  0.852799\n",
      "100    Random    0.8647        1000   0.862656  0.871124  0.863562\n",
      "101    Random    0.8617        1000   0.860042  0.867667  0.860081\n",
      "102    Random    0.8589        1000   0.857168  0.864701  0.857608\n",
      "103    Random    0.8660        1000   0.863946  0.870706  0.864095\n",
      "104    Random    0.8544        1000   0.852554  0.860450  0.853441\n",
      "105     Optim    0.9391        5000   0.938413  0.939672  0.938549\n",
      "106    Random    0.9182        5000   0.917150  0.920086  0.917489\n",
      "107    Random    0.9183        5000   0.917303  0.920328  0.917768\n",
      "108    Random    0.9141        5000   0.913271  0.917210  0.913582\n",
      "109    Random    0.9098        5000   0.908517  0.912108  0.908923\n",
      "110    Random    0.9181        5000   0.917097  0.920080  0.917548\n",
      "111    Random    0.9142        5000   0.913006  0.916064  0.913203\n",
      "112    Random    0.9166        5000   0.915528  0.918626  0.915935\n",
      "113    Random    0.9136        5000   0.912446  0.915964  0.913012\n",
      "114    Random    0.9166        5000   0.915764  0.918699  0.916035\n",
      "115    Random    0.9148        5000   0.913803  0.917259  0.914254\n",
      "116    Random    0.9138        5000   0.912727  0.917206  0.913448\n",
      "117    Random    0.9162        5000   0.915022  0.918453  0.915379\n",
      "118    Random    0.9146        5000   0.913393  0.917182  0.913928\n",
      "119    Random    0.9155        5000   0.914296  0.917842  0.914897\n",
      "120    Random    0.9175        5000   0.916510  0.919771  0.916773\n",
      "121    Random    0.9128        5000   0.911744  0.915076  0.912026\n",
      "122    Random    0.9154        5000   0.914191  0.918496  0.914773\n",
      "123    Random    0.9163        5000   0.915110  0.918777  0.915454\n",
      "124    Random    0.9124        5000   0.911204  0.915183  0.911550\n",
      "125    Random    0.9173        5000   0.916202  0.920135  0.916801\n",
      "\n",
      "[126 rows x 6 columns]\n"
     ]
    }
   ],
   "source": [
    "#with open('Readings.dat','r') as f:\n",
    "#    readings = cPickle.load(f)\n",
    "data = pd.DataFrame(readings,columns=['Algorithm','Accuracy','SubsetSize','Precision','Recall','Fscore'])\n",
    "print data"
   ]
  },
  {
   "cell_type": "code",
   "execution_count": 12,
   "metadata": {
    "collapsed": false
   },
   "outputs": [
    {
     "data": {
      "image/png": "[encoded data removed]",
      "text/plain": [
       "<matplotlib.figure.Figure at 0x1070d0650>"
      ]
     },
     "metadata": {},
     "output_type": "display_data"
    },
    {
     "data": {
      "image/png": "[encoded data removed]",
      "text/plain": [
       "<matplotlib.figure.Figure at 0x1103c3b90>"
      ]
     },
     "metadata": {},
     "output_type": "display_data"
    }
   ],
   "source": [
    "import seaborn as sns\n",
    "\n",
    "sns.set_style(\"whitegrid\")\n",
    "#paper_rc = {'lines.linewidth': 1, 'lines.markersize': 10}                  \n",
    "#sns.set_context(\"paper\", rc = paper_rc) \n",
    "#sns.set_context(\"paper\", font_scale=1.5, rc={\"lines.linewidth\": 1.5})\n",
    "\n",
    "data_random = data[data['Algorithm']=='Random']\n",
    "data_optim = data[data['Algorithm']=='Optim']\n",
    "\n",
    "fig,ax = plt.subplots(figsize = (8,6))\n",
    "\n",
    "sns.pointplot(y = \"Accuracy\",x = \"SubsetSize\",hue = \"Algorithm\",data = data_optim,ax = ax,palette = sns.color_palette(\"cubehelix\", 8))\n",
    "sns.boxplot(y=\"Accuracy\",x = \"SubsetSize\",hue = \"Algorithm\",data = data_random,ax = ax,palette=\"Set1\", linewidth=2)\n",
    "\n",
    "ax.set(xlabel = 'Subset Size',ylabel = 'Accuracy')\n",
    "\n",
    "plt.show()\n",
    "\n",
    "fig,ax = plt.subplots(figsize = (8,6))\n",
    "\n",
    "sns.pointplot(y = \"Fscore\",x = \"SubsetSize\",hue = \"Algorithm\",data = data_optim,ax = ax,palette = sns.color_palette(\"cubehelix\", 8))\n",
    "sns.boxplot(y=\"Fscore\",x = \"SubsetSize\",hue = \"Algorithm\",data = data_random,ax = ax,palette=\"Set1\", linewidth=2)\n",
    "\n",
    "ax.set(xlabel = 'Subset Size',ylabel = \"Fscore\")\n",
    "\n",
    "plt.show()"
   ]
  },
  {
   "cell_type": "code",
   "execution_count": 21,
   "metadata": {
    "collapsed": false
   },
   "outputs": [
    {
     "data": {
      "image/png": "[encoded data removed]",
      "text/plain": [
       "<matplotlib.figure.Figure at 0x10ff545d0>"
      ]
     },
     "metadata": {},
     "output_type": "display_data"
    },
    {
     "data": {
      "image/png": "[encoded data removed]",
      "text/plain": [
       "<matplotlib.figure.Figure at 0x110381450>"
      ]
     },
     "metadata": {},
     "output_type": "display_data"
    }
   ],
   "source": [
    "ax = sns.barplot(y=\"Accuracy\",x=\"SubsetSize\",hue=\"Algorithm\",data=data)\n",
    "ax.set(xlabel='Subset Size',ylabel = 'Accuracy')\n",
    "plt.show()\n",
    "ax = sns.barplot(y=\"Fscore\",x=\"SubsetSize\",hue=\"Algorithm\",data=data)\n",
    "ax.set(xlabel='Subset Size',ylabel = 'Fscore')\n",
    "plt.show()"
   ]
  },
  {
   "cell_type": "markdown",
   "metadata": {},
   "source": [
    "# Conclusions\n",
    "\n",
    "* The proposed method outperforms random selection in terms of both measures in the regime of small number of prototypes.\n",
    "* The performance improvement falls off as the number of prototypes selected is increased.  \n",
    "\n",
    "This can be explained by the fact that random selection of prototypes inherently forms a model of the input distribution. As more prototypes are selected, they approximate the true input distribution better. This means that the nearest neighbor of a point generated from the true distribution is more likely to be of the same label. Our method although it selects prototypes intelligently, can only do as well as the true underlying distribution and hence both results converge as the number of points goes up. \n",
    "\n",
    "# Further Work\n",
    "\n",
    "* Comparisons with other state of the art methods must be made to determine how good the method in comparison. \n",
    "* There are several avenues for parallelization eg. when populating the heap. Implementing these could speed up compute further.\n",
    "\n",
    "From this study, I believe that significant performance improvements over random prototype selection can be observed in the cases where a small number of prototypes need to be selected (relative to the complexity of the input distribution). It is known in general that by solving an inherently simpler problem, discriminative classifiers can be estimated on smaller samples. So one approach I would like to explore is to include a discriminative component in the cost while retaining some structure that could help optimize it. I have specifically looked so far into submodularity although more general structure can be considered. "
   ]
  }
 ],
 "metadata": {
  "kernelspec": {
   "display_name": "Python 2",
   "language": "python",
   "name": "python2"
  },
  "language_info": {
   "codemirror_mode": {
    "name": "ipython",
    "version": 2
   },
   "file_extension": ".py",
   "mimetype": "text/x-python",
   "name": "python",
   "nbconvert_exporter": "python",
   "pygments_lexer": "ipython2",
   "version": "2.7.11"
  }
 },
 "nbformat": 4,
 "nbformat_minor": 0
}
